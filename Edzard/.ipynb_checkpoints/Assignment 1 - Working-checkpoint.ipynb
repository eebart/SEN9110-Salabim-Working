{
 "cells": [
  {
   "cell_type": "code",
   "execution_count": null,
   "metadata": {
    "collapsed": true
   },
   "outputs": [],
   "source": [
    "# Build a simulation model of airport that mimics:\n",
    "# - Passport control (triangular 30-45-90 seconds)\n",
    "# - Security scan (constant 10 seconds)\n",
    "# Passengers arrive randomly (iat normal 60 seconds)\n",
    "# Luggage on belt at security scan, one at a time (20-40 seconds)\n",
    "# Conveyor 10m, speed 0.5 m/s\n",
    "# At security scan manual check for 10% of passengers with one person, others don't wait \n",
    "# After luggage, passengers take luggage again (20-40 seconds)\n",
    "# Passenger movements 2.5km/h, 10m along luggage belt\n",
    "# Distance between other processes 5m ????\n",
    "\n",
    "# Model for 4 hours, warm-up 1 hour.\n",
    "# Run 10 replications (average + 90% confidence interval)\n",
    "# Provide utilization data of passport control, scanner and secondary check"
   ]
  },
  {
   "cell_type": "code",
   "execution_count": null,
   "metadata": {
    "collapsed": true
   },
   "outputs": [],
   "source": [
    "import salabim as sim\n",
    "\n",
    "class PassengerGenerator(sim.Component):\n",
    "    def process(self):\n",
    "        while True:\n",
    "            Passenger()\n",
    "            yield self.hold(sim.Normal(60).sample())\n",
    "            \n",
    "class Passenger(sim.Component):\n",
    "    def process(self):\n",
    "        self.enter(waitingline_passport)\n",
    "        if passportcontrol.ispassive():\n",
    "            passportcontrol.activate()\n",
    "        yield self.passivate()\n",
    "        self.leave(waitingline_passport)\n",
    "        \n",
    "class PassportControl(sim.Component):\n",
    "    def process(self):\n",
    "        while True:\n",
    "            while len(waitingline) == 0:\n",
    "                yield self.passivate()\n",
    "            self.customer = waitingline.pop()\n",
    "            yield self.hold(30)\n",
    "            self.customer.activate()\n",
    "            \n",
    "class SecurityScan(sim.Component):\n",
    "    def process(self):\n",
    "        while True:\n",
    "            while len(waitingline) == 0:\n",
    "                yield self.passivate()\n",
    "            self.customer = waitingline.pop()\n",
    "            yield self.hold(30)\n",
    "            self.customer.activate()\n",
    "            \n",
    "\n",
    "env = sim.Environment(trace=True)\n",
    "PassengerGenerator()\n",
    "passportcontrol = PassportControl()\n",
    "securityscan = SecurityScan()\n",
    "waitingline_passport = sim.Queue('waitingline')\n",
    "waitingline_security = sim.Queue('waitingline')"
   ]
  }
 ],
 "metadata": {
  "kernelspec": {
   "display_name": "Python 3",
   "language": "python",
   "name": "python3"
  },
  "language_info": {
   "codemirror_mode": {
    "name": "ipython",
    "version": 3
   },
   "file_extension": ".py",
   "mimetype": "text/x-python",
   "name": "python",
   "nbconvert_exporter": "python",
   "pygments_lexer": "ipython3",
   "version": "3.6.0"
  }
 },
 "nbformat": 4,
 "nbformat_minor": 2
}
